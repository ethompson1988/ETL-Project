{
 "cells": [
  {
   "cell_type": "code",
   "execution_count": 127,
   "metadata": {},
   "outputs": [],
   "source": [
    "import pandas as pd"
   ]
  },
  {
   "cell_type": "code",
   "execution_count": 128,
   "metadata": {},
   "outputs": [],
   "source": [
    "happiness_csv = 'happiness.csv'\n",
    "happiness_df = pd.read_csv(happiness_csv)\n",
    "# happiness_df"
   ]
  },
  {
   "cell_type": "code",
   "execution_count": 129,
   "metadata": {},
   "outputs": [],
   "source": [
    "pop_growth_csv = 'pop_growth.csv'\n",
    "pop_growth_df = pd.read_csv(pop_growth_csv)\n",
    "# pop_growth_df"
   ]
  },
  {
   "cell_type": "code",
   "execution_count": 130,
   "metadata": {},
   "outputs": [],
   "source": [
    "urbanization_csv = 'urbanization.csv'\n",
    "urbanization_df = pd.read_csv(urbanization_csv)\n",
    "# urbanization_df"
   ]
  },
  {
   "cell_type": "code",
   "execution_count": 131,
   "metadata": {},
   "outputs": [],
   "source": [
    "full_df = pop_growth_df.merge(happiness_df,left_on='Country', right_on='Country name')\n",
    "# full_df"
   ]
  },
  {
   "cell_type": "code",
   "execution_count": 132,
   "metadata": {},
   "outputs": [],
   "source": [
    "full_df = full_df.merge(urbanization_df, left_on='Country', right_on='Country')"
   ]
  },
  {
   "cell_type": "code",
   "execution_count": 133,
   "metadata": {},
   "outputs": [],
   "source": [
    "# full_df.columns"
   ]
  },
  {
   "cell_type": "code",
   "execution_count": 134,
   "metadata": {},
   "outputs": [
    {
     "data": {
      "text/html": [
       "<div>\n",
       "<style scoped>\n",
       "    .dataframe tbody tr th:only-of-type {\n",
       "        vertical-align: middle;\n",
       "    }\n",
       "\n",
       "    .dataframe tbody tr th {\n",
       "        vertical-align: top;\n",
       "    }\n",
       "\n",
       "    .dataframe thead th {\n",
       "        text-align: right;\n",
       "    }\n",
       "</style>\n",
       "<table border=\"1\" class=\"dataframe\">\n",
       "  <thead>\n",
       "    <tr style=\"text-align: right;\">\n",
       "      <th></th>\n",
       "      <th></th>\n",
       "      <th></th>\n",
       "      <th>Population Growth</th>\n",
       "      <th>Urbanization</th>\n",
       "      <th>Per Capita GDP</th>\n",
       "      <th>Life Expectancy</th>\n",
       "      <th>Ladder Score</th>\n",
       "    </tr>\n",
       "    <tr>\n",
       "      <th>Region</th>\n",
       "      <th>Country</th>\n",
       "      <th>ISO-code</th>\n",
       "      <th></th>\n",
       "      <th></th>\n",
       "      <th></th>\n",
       "      <th></th>\n",
       "      <th></th>\n",
       "    </tr>\n",
       "  </thead>\n",
       "  <tbody>\n",
       "    <tr>\n",
       "      <th rowspan=\"5\" valign=\"top\">Central and Eastern Europe</th>\n",
       "      <th>Albania</th>\n",
       "      <th>ALB</th>\n",
       "      <td>0.26</td>\n",
       "      <td>62.1</td>\n",
       "      <td>9.417931</td>\n",
       "      <td>68.708138</td>\n",
       "      <td>4.8827</td>\n",
       "    </tr>\n",
       "    <tr>\n",
       "      <th>Bosnia and Herzegovina</th>\n",
       "      <th>BIH</th>\n",
       "      <td>-0.14</td>\n",
       "      <td>49.0</td>\n",
       "      <td>9.455817</td>\n",
       "      <td>67.808136</td>\n",
       "      <td>5.6741</td>\n",
       "    </tr>\n",
       "    <tr>\n",
       "      <th>Bulgaria</th>\n",
       "      <th>BGR</th>\n",
       "      <td>-0.60</td>\n",
       "      <td>75.7</td>\n",
       "      <td>9.869319</td>\n",
       "      <td>66.803978</td>\n",
       "      <td>5.1015</td>\n",
       "    </tr>\n",
       "    <tr>\n",
       "      <th>Croatia</th>\n",
       "      <th>HRV</th>\n",
       "      <td>-0.32</td>\n",
       "      <td>57.6</td>\n",
       "      <td>10.070875</td>\n",
       "      <td>70.214905</td>\n",
       "      <td>5.5047</td>\n",
       "    </tr>\n",
       "    <tr>\n",
       "      <th>Czech Republic</th>\n",
       "      <th>CZE</th>\n",
       "      <td>0.18</td>\n",
       "      <td>74.1</td>\n",
       "      <td>10.404163</td>\n",
       "      <td>70.047935</td>\n",
       "      <td>6.9109</td>\n",
       "    </tr>\n",
       "  </tbody>\n",
       "</table>\n",
       "</div>"
      ],
      "text/plain": [
       "                                                            Population Growth  \\\n",
       "Region                     Country                ISO-code                      \n",
       "Central and Eastern Europe Albania                ALB                    0.26   \n",
       "                           Bosnia and Herzegovina BIH                   -0.14   \n",
       "                           Bulgaria               BGR                   -0.60   \n",
       "                           Croatia                HRV                   -0.32   \n",
       "                           Czech Republic         CZE                    0.18   \n",
       "\n",
       "                                                            Urbanization  \\\n",
       "Region                     Country                ISO-code                 \n",
       "Central and Eastern Europe Albania                ALB               62.1   \n",
       "                           Bosnia and Herzegovina BIH               49.0   \n",
       "                           Bulgaria               BGR               75.7   \n",
       "                           Croatia                HRV               57.6   \n",
       "                           Czech Republic         CZE               74.1   \n",
       "\n",
       "                                                            Per Capita GDP  \\\n",
       "Region                     Country                ISO-code                   \n",
       "Central and Eastern Europe Albania                ALB             9.417931   \n",
       "                           Bosnia and Herzegovina BIH             9.455817   \n",
       "                           Bulgaria               BGR             9.869319   \n",
       "                           Croatia                HRV            10.070875   \n",
       "                           Czech Republic         CZE            10.404163   \n",
       "\n",
       "                                                            Life Expectancy  \\\n",
       "Region                     Country                ISO-code                    \n",
       "Central and Eastern Europe Albania                ALB             68.708138   \n",
       "                           Bosnia and Herzegovina BIH             67.808136   \n",
       "                           Bulgaria               BGR             66.803978   \n",
       "                           Croatia                HRV             70.214905   \n",
       "                           Czech Republic         CZE             70.047935   \n",
       "\n",
       "                                                            Ladder Score  \n",
       "Region                     Country                ISO-code                \n",
       "Central and Eastern Europe Albania                ALB             4.8827  \n",
       "                           Bosnia and Herzegovina BIH             5.6741  \n",
       "                           Bulgaria               BGR             5.1015  \n",
       "                           Croatia                HRV             5.5047  \n",
       "                           Czech Republic         CZE             6.9109  "
      ]
     },
     "execution_count": 134,
     "metadata": {},
     "output_type": "execute_result"
    }
   ],
   "source": [
    "full_df[\"Region\"] = full_df[\"Regional indicator\"]\n",
    "full_df[\"ISO-code\"] = full_df[\"ISO-code_x\"]\n",
    "\n",
    "full_df2 = pd.DataFrame({\"Population Growth\":full_df.groupby([\"Region\",\"Country\", \"ISO-code\"])[\"Population growth\"].mean(),\n",
    "                         \"Urbanization\":full_df.groupby([\"Region\",\"Country\", \"ISO-code\"])[\"Urbanization rate\"].mean(),\n",
    "                         \"Per Capita GDP\":full_df.groupby([\"Region\",\"Country\", \"ISO-code\"])[\"Logged GDP per capita\"].mean(),\n",
    "                         \"Life Expectancy\":full_df.groupby([\"Region\",\"Country\", \"ISO-code\"])[\"Healthy life expectancy\"].mean(),\n",
    "                         \"Ladder Score\":full_df.groupby([\"Region\",\"Country\", \"ISO-code\"])[\"Ladder score\"].mean()\n",
    "                        })\n",
    "    \n",
    "\n",
    "\n",
    "\n",
    "\n",
    "full_df2.head()"
   ]
  },
  {
   "cell_type": "code",
   "execution_count": null,
   "metadata": {},
   "outputs": [],
   "source": []
  }
 ],
 "metadata": {
  "kernelspec": {
   "display_name": "Python [conda env:PythonData] *",
   "language": "python",
   "name": "conda-env-PythonData-py"
  },
  "language_info": {
   "codemirror_mode": {
    "name": "ipython",
    "version": 3
   },
   "file_extension": ".py",
   "mimetype": "text/x-python",
   "name": "python",
   "nbconvert_exporter": "python",
   "pygments_lexer": "ipython3",
   "version": "3.8.5"
  }
 },
 "nbformat": 4,
 "nbformat_minor": 4
}
